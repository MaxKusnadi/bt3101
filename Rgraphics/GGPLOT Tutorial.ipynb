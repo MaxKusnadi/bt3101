{
 "cells": [
  {
   "cell_type": "code",
   "execution_count": 3,
   "metadata": {
    "collapsed": false
   },
   "outputs": [
    {
     "data": {
      "text/html": [
       "<table>\n",
       "<thead><tr><th scope=col>State</th><th scope=col>region</th><th scope=col>Date</th><th scope=col>Home.Value</th><th scope=col>Structure.Cost</th><th scope=col>Land.Value</th><th scope=col>Land.Share..Pct.</th><th scope=col>Home.Price.Index</th><th scope=col>Land.Price.Index</th></tr></thead>\n",
       "<tbody>\n",
       "\t<tr><td>AK    </td><td>West  </td><td>20101 </td><td>224952</td><td>160599</td><td>64352 </td><td>28.6  </td><td>1.481 </td><td>1.552 </td></tr>\n",
       "\t<tr><td>AK    </td><td>West  </td><td>20102 </td><td>225511</td><td>160252</td><td>65259 </td><td>28.9  </td><td>1.484 </td><td>1.576 </td></tr>\n",
       "\t<tr><td>AK    </td><td>West  </td><td>20093 </td><td>225820</td><td>163791</td><td>62029 </td><td>27.5  </td><td>1.486 </td><td>1.494 </td></tr>\n",
       "\t<tr><td>AK    </td><td>West  </td><td>20094 </td><td>224994</td><td>161787</td><td>63207 </td><td>28.1  </td><td>1.481 </td><td>1.524 </td></tr>\n",
       "\t<tr><td>AK    </td><td>West  </td><td>20074 </td><td>234590</td><td>155400</td><td>79190 </td><td>33.8  </td><td>1.544 </td><td>1.885 </td></tr>\n",
       "\t<tr><td>AK    </td><td>West  </td><td>20081 </td><td>233714</td><td>157458</td><td>76256 </td><td>32.6  </td><td>1.538 </td><td>1.817 </td></tr>\n",
       "</tbody>\n",
       "</table>\n"
      ],
      "text/latex": [
       "\\begin{tabular}{r|lllllllll}\n",
       " State & region & Date & Home.Value & Structure.Cost & Land.Value & Land.Share..Pct. & Home.Price.Index & Land.Price.Index\\\\\n",
       "\\hline\n",
       "\t AK     & West   & 20101  & 224952 & 160599 & 64352  & 28.6   & 1.481  & 1.552 \\\\\n",
       "\t AK     & West   & 20102  & 225511 & 160252 & 65259  & 28.9   & 1.484  & 1.576 \\\\\n",
       "\t AK     & West   & 20093  & 225820 & 163791 & 62029  & 27.5   & 1.486  & 1.494 \\\\\n",
       "\t AK     & West   & 20094  & 224994 & 161787 & 63207  & 28.1   & 1.481  & 1.524 \\\\\n",
       "\t AK     & West   & 20074  & 234590 & 155400 & 79190  & 33.8   & 1.544  & 1.885 \\\\\n",
       "\t AK     & West   & 20081  & 233714 & 157458 & 76256  & 32.6   & 1.538  & 1.817 \\\\\n",
       "\\end{tabular}\n"
      ],
      "text/plain": [
       "  State region Date  Home.Value Structure.Cost Land.Value Land.Share..Pct.\n",
       "1 AK    West   20101 224952     160599         64352      28.6            \n",
       "2 AK    West   20102 225511     160252         65259      28.9            \n",
       "3 AK    West   20093 225820     163791         62029      27.5            \n",
       "4 AK    West   20094 224994     161787         63207      28.1            \n",
       "5 AK    West   20074 234590     155400         79190      33.8            \n",
       "6 AK    West   20081 233714     157458         76256      32.6            \n",
       "  Home.Price.Index Land.Price.Index\n",
       "1 1.481            1.552           \n",
       "2 1.484            1.576           \n",
       "3 1.486            1.494           \n",
       "4 1.481            1.524           \n",
       "5 1.544            1.885           \n",
       "6 1.538            1.817           "
      ]
     },
     "metadata": {},
     "output_type": "display_data"
    }
   ],
   "source": [
    "housing <- read.csv(\"dataSets/landdata-states.csv\")\n",
    "head(housing)"
   ]
  },
  {
   "cell_type": "code",
   "execution_count": null,
   "metadata": {
    "collapsed": true
   },
   "outputs": [],
   "source": [
    "d"
   ]
  }
 ],
 "metadata": {
  "kernelspec": {
   "display_name": "R",
   "language": "R",
   "name": "ir"
  },
  "language_info": {
   "codemirror_mode": "r",
   "file_extension": ".r",
   "mimetype": "text/x-r-source",
   "name": "R",
   "pygments_lexer": "r",
   "version": "3.2.3"
  }
 },
 "nbformat": 4,
 "nbformat_minor": 1
}
